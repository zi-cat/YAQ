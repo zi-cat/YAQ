{
 "cells": [
  {
   "cell_type": "code",
   "execution_count": 8,
   "metadata": {},
   "outputs": [],
   "source": [
    "import json\n",
    "import pandas as pd\n",
    "from collections import Counter"
   ]
  },
  {
   "cell_type": "code",
   "execution_count": 28,
   "metadata": {},
   "outputs": [],
   "source": [
    "def clean_results(json_file):\n",
    "    with open(json_file, \"r\") as f:\n",
    "        p = json.load(f)\n",
    "    posts_df = pd.DataFrame(p)\n",
    "#     print(len(p))\n",
    "    \n",
    "    right = ['Not the A-hole', 'No A-holes here', 'Asshole', 'Everyone Sucks']\n",
    "    posts_df2 = posts_df[posts_df.label.isin(right)]\n",
    "    \n",
    "    posts_df2 = posts_df2[posts_df2.text!=None]\n",
    "    \n",
    "    return posts_df2"
   ]
  },
  {
   "cell_type": "code",
   "execution_count": 29,
   "metadata": {},
   "outputs": [],
   "source": [
    "def count_totals(df):\n",
    "    regular_labels = Counter(df.label)\n",
    "    deleted = new_df[new_df.text==\"[deleted]\"]\n",
    "    deleted_labels = Counter(deleted.label)\n",
    "    \n",
    "    return regular_labels, deleted_labels"
   ]
  },
  {
   "cell_type": "code",
   "execution_count": 30,
   "metadata": {},
   "outputs": [],
   "source": [
    "def remove_deleted(df): \n",
    "    new_df_cleaned = df[df.text!=\"[deleted]\"]\n",
    "    return(new_df_cleaned)"
   ]
  },
  {
   "cell_type": "code",
   "execution_count": 31,
   "metadata": {},
   "outputs": [],
   "source": [
    "new_df = clean_results(\"aita_psaw_praw_179787.json\")"
   ]
  },
  {
   "cell_type": "code",
   "execution_count": 34,
   "metadata": {},
   "outputs": [
    {
     "data": {
      "text/plain": [
       "163977"
      ]
     },
     "execution_count": 34,
     "metadata": {},
     "output_type": "execute_result"
    }
   ],
   "source": [
    "len(new_df)"
   ]
  },
  {
   "cell_type": "code",
   "execution_count": 33,
   "metadata": {
    "scrolled": true
   },
   "outputs": [
    {
     "data": {
      "text/plain": [
       "0         Throwaway obviously and fair warning on mobile...\n",
       "1         Okay so I’m on a throwaway bc he has reddit. \\...\n",
       "2         *Sorry if my format is weird, this is my first...\n",
       "3         This guy (23M) and I (20F) are very, very clos...\n",
       "4         Mandatory apologise for mobile formatting. \\n\\...\n",
       "5         F, 23Throwaway acc.\\nLast year, Kevin (30) sta...\n",
       "6                                                 [deleted]\n",
       "7         Today I was walking to the store. There is usu...\n",
       "8         Okay, so I get along really well with this par...\n",
       "9         Matched with a girl, she said she wanted to go...\n",
       "10                                                [deleted]\n",
       "11        My friend is getting married early next year, ...\n",
       "12        I was buying a woodworking tool called a thick...\n",
       "13        \\n\\nVery important to note that I don’t change...\n",
       "14        Two of my closest friends and I have been plan...\n",
       "15        I think this should not go against the communi...\n",
       "16        I was buying clothes at a store, as a young 20...\n",
       "17        So, I’m on mobile, and I’m a long time lurker....\n",
       "18        My friend, let’s call him Adam messes around o...\n",
       "20        The latest addition to my friend group (we'll ...\n",
       "21        Went home to my moms for christmas.  My sister...\n",
       "22        This happened when I was still a child but som...\n",
       "23        Throwaway because some people included are on ...\n",
       "24        So this goes back for a second, but I dated a ...\n",
       "25        EDIT FOR FOLLOW UP:\\nThanks for all the replie...\n",
       "26        Kind of a weird post cause I wasn’t sure how t...\n",
       "27        I've been doing bootcamp regularly for about a...\n",
       "28        So this is kind of an odd situation and I will...\n",
       "29        On mobile, sorry! \\nSo I (25f) was in the chec...\n",
       "30        AITA for copying my friends’ business idea?\\n\\...\n",
       "                                ...                        \n",
       "171074    My friend told me that this new guy who just m...\n",
       "171075    I'm posting this here because I feel that whil...\n",
       "171076                                            [deleted]\n",
       "171077    Let me start off by saying that I'm a very bus...\n",
       "171078                                            [deleted]\n",
       "171079    She yells at me for being rude to her every ti...\n",
       "171081    Me and my Girlfriend have been dating for abou...\n",
       "171082    Hi guys. So I’m a female transferring from my ...\n",
       "171083    These guys were my lifelong friends growing up...\n",
       "171084    I live in university dorms for a third year ru...\n",
       "171085                                            [deleted]\n",
       "171086                                            [deleted]\n",
       "171087    I don't mind giving to charity, but it seems l...\n",
       "171088    Hi everyone. I try to be a regular person who ...\n",
       "171089    So, this happened some time ago with my then-b...\n",
       "171090    https://www.reddit.com/r/aww/comments/9o3snu/i...\n",
       "171091                                            [deleted]\n",
       "171092    About a year ago, I went to Panda Express with...\n",
       "171093    ## \\n\\nthis is the first time i've ever made a...\n",
       "171094                                            [deleted]\n",
       "171095    GF graduates college, invites me to Europe whe...\n",
       "171097    **EDIT FOR TITLE**: \"After Sending\"\\*\\* (sorry...\n",
       "171098    My friend has a crush who is another female i ...\n",
       "171099    I’m not sure if I’m the asshole or not. I went...\n",
       "171100     So, I cut ties with my family a while back, b...\n",
       "171101    My boyfriend and I recently bought our first h...\n",
       "171103    I know my friend has been sick and our number ...\n",
       "171354                                            [deleted]\n",
       "173825    This is my first post on here so sorry for the...\n",
       "173943                                            [deleted]\n",
       "Name: text, Length: 163977, dtype: object"
      ]
     },
     "execution_count": 33,
     "metadata": {},
     "output_type": "execute_result"
    }
   ],
   "source": [
    "new_df.text.dropna()"
   ]
  },
  {
   "cell_type": "code",
   "execution_count": 18,
   "metadata": {},
   "outputs": [],
   "source": [
    "for i in list(new_df.text):\n",
    "    if i == None:\n",
    "        print(i)"
   ]
  },
  {
   "cell_type": "code",
   "execution_count": 13,
   "metadata": {
    "scrolled": true
   },
   "outputs": [
    {
     "data": {
      "text/plain": [
       "(Counter({'Not the A-hole': 93283,\n",
       "          'No A-holes here': 22102,\n",
       "          'Asshole': 37333,\n",
       "          'Everyone Sucks': 11259}),\n",
       " Counter({'Asshole': 8650,\n",
       "          'Not the A-hole': 19796,\n",
       "          'Everyone Sucks': 2750,\n",
       "          'No A-holes here': 4819}))"
      ]
     },
     "execution_count": 13,
     "metadata": {},
     "output_type": "execute_result"
    }
   ],
   "source": [
    "count_totals(new_df)"
   ]
  },
  {
   "cell_type": "code",
   "execution_count": 14,
   "metadata": {},
   "outputs": [],
   "source": [
    "no_deleted = remove_deleted(new_df)"
   ]
  },
  {
   "cell_type": "code",
   "execution_count": 15,
   "metadata": {},
   "outputs": [],
   "source": [
    "no_deleted.to_csv(\"final_cleaned_df.csv\")"
   ]
  },
  {
   "cell_type": "markdown",
   "metadata": {},
   "source": [
    "Deleted  text labels"
   ]
  },
  {
   "cell_type": "code",
   "execution_count": 16,
   "metadata": {},
   "outputs": [
    {
     "data": {
      "image/png": "[encoded data removed]",
      "text/plain": [
       "<Figure size 432x288 with 1 Axes>"
      ]
     },
     "metadata": {},
     "output_type": "display_data"
    }
   ],
   "source": [
    "import matplotlib.pyplot as plt\n",
    "\n",
    "# Data to plot\n",
    "labels = 'YTA', 'NTA', 'ESH', 'NAH'\n",
    "sizes =[4175,8425,1206,2023]\n",
    "colors = ['gold', 'yellowgreen', 'lightcoral', 'lightskyblue']\n",
    "explode = (0.1, 0, 0, 0)  # explode 1st slice\n",
    "\n",
    "# Plot\n",
    "plt.pie(sizes, explode=explode, labels=labels, colors=colors,\n",
    "autopct='%1.1f%%', shadow=True, startangle=140)\n",
    "\n",
    "plt.show()"
   ]
  },
  {
   "cell_type": "markdown",
   "metadata": {},
   "source": [
    "All labels"
   ]
  },
  {
   "cell_type": "code",
   "execution_count": 2,
   "metadata": {},
   "outputs": [
    {
     "data": {
      "image/png": "[encoded data removed]",
      "text/plain": [
       "<Figure size 432x288 with 1 Axes>"
      ]
     },
     "metadata": {},
     "output_type": "display_data"
    }
   ],
   "source": [
    "import matplotlib.pyplot as plt\n",
    "\n",
    "# Data to plot\n",
    "labels = 'YTA', 'NTA', 'ESH', 'NAH'\n",
    "sizes =[21083,50347,6068,11822]\n",
    "colors = ['gold', 'yellowgreen', 'lightcoral', 'lightskyblue']\n",
    "explode = (0.1, 0, 0, 0)  # explode 1st slice\n",
    "\n",
    "# Plot\n",
    "plt.pie(sizes, explode=explode, labels=labels, colors=colors,\n",
    "autopct='%1.1f%%', shadow=True, startangle=140)\n",
    "\n",
    "plt.show()"
   ]
  },
  {
   "cell_type": "code",
   "execution_count": null,
   "metadata": {},
   "outputs": [],
   "source": []
  }
 ],
 "metadata": {
  "kernelspec": {
   "display_name": "Python 3",
   "language": "python",
   "name": "python3"
  },
  "language_info": {
   "codemirror_mode": {
    "name": "ipython",
    "version": 3
   },
   "file_extension": ".py",
   "mimetype": "text/x-python",
   "name": "python",
   "nbconvert_exporter": "python",
   "pygments_lexer": "ipython3",
   "version": "3.7.3"
  }
 },
 "nbformat": 4,
 "nbformat_minor": 2
}
